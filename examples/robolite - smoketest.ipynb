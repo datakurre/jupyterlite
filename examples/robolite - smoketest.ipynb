{
  "metadata": {
    "language_info": {
      "codemirror_mode": {
        "name": "robotframework",
        "version": 3
      },
      "file_extension": ".robot",
      "mimetype": "text/x-robotframework",
      "name": "robotframework",
      "nbconvert_exporter": "robotframework",
      "pygments_lexer": "robotframework",
      "version": "3.8"
    },
    "kernelspec": {
      "name": "Robot Framework",
      "display_name": "Robot Framework",
      "language": "robotframework"
    }
  },
  "nbformat_minor": 4,
  "nbformat": 4,
  "cells": [
    {
      "cell_type": "markdown",
      "source": "## Robot Framework kernel for Jupyter Lite",
      "metadata": {}
    },
    {
      "cell_type": "markdown",
      "source": "This notebook demonstrates the use of Robot Framework kernel for in-browser Jupyter Lite.",
      "metadata": {}
    },
    {
      "cell_type": "markdown",
      "source": "At first we import `IPython.display` to have its display method as a keyword.",
      "metadata": {}
    },
    {
      "cell_type": "code",
      "source": "*** Settings ***\n\nLibrary  IPython.display",
      "metadata": {
        "trusted": true
      },
      "execution_count": null,
      "outputs": []
    },
    {
      "cell_type": "markdown",
      "source": "Then we try out successful task that produces log and report:",
      "metadata": {}
    },
    {
      "cell_type": "code",
      "source": "*** Tasks ***\n\nThis task shall pass\n    Should be equal  1  1",
      "metadata": {
        "tags": [],
        "trusted": true
      },
      "execution_count": null,
      "outputs": []
    },
    {
      "cell_type": "markdown",
      "source": "So, happy path works. Let's see next how the failing task also shows us stderr from the execution:",
      "metadata": {}
    },
    {
      "cell_type": "code",
      "source": "*** Tasks ***\n\nThis task shall fail\n    Should be equal  1  2",
      "metadata": {
        "trusted": true
      },
      "execution_count": null,
      "outputs": []
    },
    {
      "cell_type": "markdown",
      "source": "It is also possible to define custom keywords. And make them require arguments.\n\nRobot Framework kernel injects widgets for the keywords to make it easier to try them out:",
      "metadata": {}
    },
    {
      "cell_type": "code",
      "source": "*** Keywords ***\n\nThis keyword displays a word\n    [Arguments]  ${word}=Hello world\n    Display  ${word}",
      "metadata": {
        "trusted": true
      },
      "execution_count": null,
      "outputs": []
    },
    {
      "cell_type": "markdown",
      "source": "Unfortunately, due to [a bug](https://github.com/jupyterlite/jupyterlite/issues/303) in Jupyter Lite ipywidgets integration, the button output does not fully work: output may replace button or appear in wrong location.\n\nAlso, the failing keyword below does not show its stderr as it should:",
      "metadata": {}
    },
    {
      "cell_type": "code",
      "source": "*** Keywords ***\n\nThis keyword should fail\n    [Arguments]  ${word}=Hello world\n    Don't display  ${word}",
      "metadata": {
        "trusted": true
      },
      "execution_count": null,
      "outputs": []
    },
    {
      "cell_type": "markdown",
      "source": "We expect these to be fixed pretty soon...",
      "metadata": {}
    },
    {
      "cell_type": "markdown",
      "source": "Next, to the fancier features. Let's define inline Python module for custom Python keyword library:",
      "metadata": {}
    },
    {
      "cell_type": "code",
      "source": "%%python module HelloWorld\n\nclass HelloWorld:\n    def hello_world(self):\n        return \"Hello World!\"",
      "metadata": {
        "trusted": true
      },
      "execution_count": null,
      "outputs": []
    },
    {
      "cell_type": "markdown",
      "source": "Now this module can be safely imported as a keyword library:",
      "metadata": {}
    },
    {
      "cell_type": "code",
      "source": "*** Settings ***\n\nLibrary  HelloWorld",
      "metadata": {
        "trusted": true
      },
      "execution_count": null,
      "outputs": []
    },
    {
      "cell_type": "markdown",
      "source": "And used in a task:",
      "metadata": {}
    },
    {
      "cell_type": "code",
      "source": "*** Tasks ***\n\nTry out HelloWorld keywords\n    Hello world",
      "metadata": {
        "trusted": true
      },
      "execution_count": null,
      "outputs": []
    },
    {
      "cell_type": "markdown",
      "source": "Adding existing 3rd party keyword libraries is more tricky, though.\n\nAt first, in-browser Jupyter Lite can only support pure Python packages (or packages pre-compiled to WASM). At second, Robot Framework kernel in this integration does not expose API to interact with the underlying Python environment.\n\nA workaround is to define a custom in-line module and import it twice by executing the cell. The first execution will trigger asynchronous package download. Once the package has been downloaded, execution should work.",
      "metadata": {}
    },
    {
      "cell_type": "code",
      "source": "%%python module PackageManager\n\ntry:\n    import OTP\nexcept ImportError:\n    import micropip\n    micropip.install([\"pyotp\", \"robotframework-otp\"])\n    import OTP",
      "metadata": {
        "trusted": true
      },
      "execution_count": null,
      "outputs": []
    },
    {
      "cell_type": "code",
      "source": "*** Settings ***\n\nLibrary  OTP",
      "metadata": {
        "trusted": true
      },
      "execution_count": null,
      "outputs": []
    },
    {
      "cell_type": "code",
      "source": "*** Tasks ***\n\nGet OTP from secret\n    ${otp}=  Get OTP  base32secret3232",
      "metadata": {
        "trusted": true
      },
      "execution_count": null,
      "outputs": []
    },
    {
      "cell_type": "markdown",
      "source": "Finally, we learn to interact with the world from in-browser Jupyter Lite. Because the underlying Python implementation does not yet have `http.client`, we can only do request with JavaScript API, only using synchronous version of XMLHttpRequest, only for resources that support CORS.",
      "metadata": {}
    },
    {
      "cell_type": "code",
      "source": "%%python module API\n\nfrom js import XMLHttpRequest\n\nimport json\n\n\nclass API:\n    def get_data(self):\n        url = f\"https://reqres.in/api/users\"\n        request = XMLHttpRequest.new()\n        request.open(\"GET\", url, False)\n        request.send(None)\n        assert request.status == 200\n        return json.loads(request.responseText)",
      "metadata": {
        "trusted": true
      },
      "execution_count": null,
      "outputs": []
    },
    {
      "cell_type": "code",
      "source": "*** Settings ***\n\nLibrary  API",
      "metadata": {
        "trusted": true
      },
      "execution_count": null,
      "outputs": []
    },
    {
      "cell_type": "code",
      "source": "*** Tasks ***\n\nGet some data\n    ${data}=  Get data",
      "metadata": {
        "trusted": true
      },
      "execution_count": null,
      "outputs": []
    }
  ]
}