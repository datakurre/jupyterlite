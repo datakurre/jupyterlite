{
  "metadata": {
    "language_info": {
      "codemirror_mode": {
        "name": "robotframework",
        "version": 3
      },
      "file_extension": ".robot",
      "mimetype": "text/x-robotframework",
      "name": "robotframework",
      "nbconvert_exporter": "robotframework",
      "pygments_lexer": "robotframework",
      "version": "3.8"
    },
    "kernelspec": {
      "name": "Robot Framework",
      "display_name": "Robot Framework",
      "language": "robotframework"
    }
  },
  "nbformat_minor": 4,
  "nbformat": 4,
  "cells": [
    {
      "cell_type": "code",
      "source": "*** Settings ***\n\nLibrary  IPython.display",
      "metadata": {
        "trusted": true
      },
      "execution_count": null,
      "outputs": []
    },
    {
      "cell_type": "code",
      "source": "*** Test Cases ***\n\nThis test shall pass\n    Should be equal  1  1",
      "metadata": {
        "tags": [],
        "trusted": true
      },
      "execution_count": null,
      "outputs": []
    },
    {
      "cell_type": "code",
      "source": "*** Test Cases *** ***\n\nThis test shall fail\n    Should be equal  1  2",
      "metadata": {
        "trusted": true
      },
      "execution_count": null,
      "outputs": []
    },
    {
      "cell_type": "code",
      "source": "*** Keywords ***\n\nThis keyword displays a word\n    [Arguments]  ${word}=Hello world\n    Display  ${word}",
      "metadata": {
        "trusted": true
      },
      "execution_count": null,
      "outputs": []
    },
    {
      "cell_type": "code",
      "source": "*** Keywords ***\n\nThis keyword displays should fail\n    [Arguments]  ${word}=Hello world\n    Don't display  ${word}",
      "metadata": {
        "trusted": true
      },
      "execution_count": null,
      "outputs": []
    },
    {
      "cell_type": "code",
      "source": "%%python module HelloWorld\n\nclass HelloWorld:\n    def hello_world(self):\n        return \"Hello World!\"",
      "metadata": {
        "trusted": true
      },
      "execution_count": null,
      "outputs": []
    },
    {
      "cell_type": "code",
      "source": "*** Settings ***\n\nLibrary  HelloWorld",
      "metadata": {
        "trusted": true
      },
      "execution_count": null,
      "outputs": []
    },
    {
      "cell_type": "code",
      "source": "*** Tasks ***\n\nTry out HelloWorld keywords\n    Hello world",
      "metadata": {
        "trusted": true
      },
      "execution_count": null,
      "outputs": []
    }
  ]
}